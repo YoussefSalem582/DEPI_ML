{
  "cells": [
    {
      "cell_type": "markdown",
      "source": [
        "**Name:  Youssef Salem Anwer Salem Hassan**"
      ],
      "metadata": {
        "id": "xsMKBrqk8Guy"
      }
    },
    {
      "cell_type": "markdown",
      "metadata": {
        "id": "NO_vmKd57Vzn"
      },
      "source": [
        "## **Problem 1:** Calculator Using Match-Case\n",
        "\n",
        "\n",
        "Task:\n",
        "Create a calculator program that performs basic arithmetic operations. The program should:\n",
        "\n",
        "- Prompt the user to enter two numbers.\n",
        "- Prompt the user to enter an operator (+, -, *, /, %).\n",
        "- Use a match-case statement to perform the operation.\n",
        "- Display the result.\n",
        "\n",
        "Example:\n",
        "\n",
        "Enter the first number: 10<br>\n",
        "Enter the second number: 5<br>\n",
        "Enter an operator (+, -, *, /, %): /<br>\n",
        "Result: 2.0\n",
        "\n",
        "\n",
        "**Additional Requirement:**\n",
        "\n",
        "Handle division by zero and invalid operators gracefully by displaying appropriate error messages.\n"
      ]
    },
    {
      "cell_type": "code",
      "source": [
        "num1 = float(input(\"Enter the first number: \"))\n",
        "num2 = float(input(\"Enter the second number: \"))\n",
        "operator = input(\"Enter an operator (+, -, *, /, %): \").strip()\n",
        "\n",
        "match operator:\n",
        "      case '+':\n",
        "          print(f\"Result: {num1 + num2}\")\n",
        "      case '-':\n",
        "          print(f\"Result: {num1 - num2}\")\n",
        "      case '*':\n",
        "          print(f\"Result: {num1 * num2}\")\n",
        "      case '/':\n",
        "          if num2 == 0:\n",
        "              print(\"Error: Division by zero is not allowed.\")\n",
        "          else:\n",
        "              print(f\"Result: {num1 / num2}\")\n",
        "      case '%':\n",
        "          if num2 == 0:\n",
        "              print(\"Error: Division by zero is not allowed.\")\n",
        "          else:\n",
        "              print(f\"Result: {num1 % num2}\")"
      ],
      "metadata": {
        "colab": {
          "base_uri": "https://localhost:8080/",
          "height": 0
        },
        "id": "aEUsvMei7gPc",
        "outputId": "783f6bf9-1953-497a-cf7c-302544572542"
      },
      "execution_count": 8,
      "outputs": [
        {
          "output_type": "stream",
          "name": "stdout",
          "text": [
            "Enter the first number: 8\n",
            "Enter the second number: 4\n",
            "Enter an operator (+, -, *, /, %): *\n",
            "Result: 32.0\n"
          ]
        }
      ]
    },
    {
      "cell_type": "markdown",
      "metadata": {
        "id": "jpVHntCF7Vzq"
      },
      "source": [
        "## **Problem 2:** Pattern Generation with For Loops\n",
        "\n",
        "Task:\n",
        "\n",
        "Write a Python program that generates a number pattern based on a user-defined limit `n`. The pattern should incrementally increase the number of elements in each row, starting from `1`, until the next number would exceed `n`. Use nested for loops to achieve this.\n",
        "\n",
        "Example:\n",
        "If `n = 10`, the output should be:\n",
        "\n",
        "1<br>\n",
        "2 3<br>\n",
        "4 5 6<br>\n",
        "7 8 9 10<br>\n",
        "\n",
        "Requirements:\n",
        "\n",
        "- Use nested for loops.\n",
        "- The program should prompt the user for the value of n, (explained below in the hint)\n",
        "- Ensure that the pattern stops adding numbers when the next number would exceed n."
      ]
    },
    {
      "cell_type": "code",
      "source": [
        "n = int(input(\"Enter the value of n: \"))\n",
        "\n",
        "current_number = 1\n",
        "\n",
        "for i in range(1, n + 1):\n",
        "    row = []\n",
        "    for j in range(i):\n",
        "        if current_number > n:\n",
        "            break\n",
        "        row.append(current_number)\n",
        "        current_number += 1\n",
        "    if not row:\n",
        "        break\n",
        "    print(\" \".join(map(str, row)))"
      ],
      "metadata": {
        "colab": {
          "base_uri": "https://localhost:8080/",
          "height": 0
        },
        "id": "uf5Xk-aIBwjp",
        "outputId": "0b6da226-7a6d-442f-b2f7-195e8ca4015e"
      },
      "execution_count": 11,
      "outputs": [
        {
          "output_type": "stream",
          "name": "stdout",
          "text": [
            "Enter the value of n: 28\n",
            "1\n",
            "2 3\n",
            "4 5 6\n",
            "7 8 9 10\n",
            "11 12 13 14 15\n",
            "16 17 18 19 20 21\n",
            "22 23 24 25 26 27 28\n"
          ]
        }
      ]
    },
    {
      "cell_type": "markdown",
      "metadata": {
        "id": "tHMSqqsl7Vzq"
      },
      "source": [
        "## **Problem 3:** List Comparison and Analysis\n",
        "\n",
        "Task:\n",
        "Write a Python program that, given two lists of integers list_a and list_b, performs the following operations:\n",
        "\n",
        "- Finds and displays a list of elements that are common to both lists.\n",
        "- Finds and displays a list of elements that are only in list_a.\n",
        "- Finds and displays a list of elements that are only in list_b.\n",
        "- Calculates and displays the sum of the absolute differences between corresponding elements up to the length of the shorter list.\n",
        "\n",
        "Example:\n",
        "\n",
        "Given:\n",
        "\n",
        "list_a = **[1, 2, 3, 4]**<br>\n",
        "list_b = **[3, 4, 5, 6]**\n",
        "\n",
        "The program should output:\n",
        "\n",
        "Common elements: **[3, 4]**<br>\n",
        "Unique to list_a: **[1, 2]**<br>\n",
        "Unique to list_b: **[5, 6]**<br>\n",
        "Sum of differences: **8**<br>\n",
        "\n",
        "\n",
        "Explanation of Sum of Differences:\n",
        "\n",
        "Calculate the sum of absolute differences between corresponding elements:\n",
        "\n",
        "|1 - 3| = 2<br>\n",
        "|2 - 4| = 2<br>\n",
        "|3 - 5| = 2<br>\n",
        "|4 - 6| = 2<br>\n",
        "\n",
        "Total sum: 2 + 2 + 2 + 2 = 8\n",
        "\n",
        "\n",
        "#### **Requirements:**\n",
        "\n",
        "- Use list comprehensions not sets.\n",
        "- Ensure the program handles lists of different lengths.\n",
        "- The original lists should not be modified.\n",
        "- Do not use functions; write the code in the main body of the program."
      ]
    },
    {
      "cell_type": "code",
      "source": [
        "list_a = [1, 2, 3, 4]\n",
        "list_b = [3, 4, 5, 6]\n",
        "\n",
        "# common elements\n",
        "common_elements = [x for x in list_a if x in list_b]\n",
        "print(f\"Common elements: {common_elements}\")\n",
        "\n",
        "# unique to list_a\n",
        "unique_to_a = [x for x in list_a if x not in list_b]\n",
        "print(f\"Unique to list_a: {unique_to_a}\")\n",
        "\n",
        "# unique to list_b\n",
        "unique_to_b = [x for x in list_b if x not in list_a]\n",
        "print(f\"Unique to list_b: {unique_to_b}\")\n",
        "\n",
        "# Calculate sum of absolute differences\n",
        "min_length = min(len(list_a), len(list_b))\n",
        "sum_of_differences = sum(abs(list_a[i] - list_b[i]) for i in range(min_length))\n",
        "print(f\"Sum of differences: {sum_of_differences}\")\n"
      ],
      "metadata": {
        "colab": {
          "base_uri": "https://localhost:8080/",
          "height": 0
        },
        "id": "uZyNcIcoC11I",
        "outputId": "5418a83b-304b-4bbd-be24-f8004c6b1fb1"
      },
      "execution_count": 13,
      "outputs": [
        {
          "output_type": "stream",
          "name": "stdout",
          "text": [
            "Common elements: [3, 4]\n",
            "Unique to list_a: [1, 2]\n",
            "Unique to list_b: [5, 6]\n",
            "Sum of differences: 8\n"
          ]
        }
      ]
    },
    {
      "cell_type": "markdown",
      "metadata": {
        "id": "NUo7tekQ7Vzr"
      },
      "source": [
        "## **Problem 4:** Collatz Conjecture with While Loop\n",
        "\n",
        "Task\n",
        "\n",
        "Write a Python program that computes and displays the Collatz sequence for a given positive integer `n`.\n",
        "\n",
        "Steps to Follow:\n",
        "\n",
        "- Prompt the user to input a positive integer.\n",
        "- Check if the input is valid (greater than 0). If not, prompt the user again.\n",
        "- Compute the Collatz sequence using a while loop:\n",
        "    - If n is even, the next number is **n / 2**.\n",
        "    - If n is odd, the next number is **3 * n + 1**.\n",
        "    - Append each value to a list.\n",
        "- Continue the process until **n** becomes 1.\n",
        "\n",
        "**Example:**\n",
        "If the user inputs 6, the program should output:\n",
        "\n",
        "**Collatz sequence: [6, 3, 10, 5, 16, 8, 4, 2, 1]**\n",
        "\n",
        "#### **Requirments:**\n",
        "\n",
        "- Use a while loop.\n",
        "- Validate that the input n is a positive integer.\n",
        "- Do not use functions; write the code in the main body of the program.\n",
        "- The sequence should be stored in a list and displayed after the computation."
      ]
    },
    {
      "cell_type": "code",
      "source": [
        "while True:\n",
        "    try:\n",
        "        n = int(input(\"Enter a positive integer: \"))\n",
        "        if n > 0:\n",
        "            break\n",
        "        else:\n",
        "            print(\"The number must be greater than 0.\")\n",
        "    except ValueError:\n",
        "        print(\"Invalid input. Please enter a positive integer.\")\n",
        "\n",
        "collatz_sequence = [n]\n",
        "\n",
        "# Collatz sequence\n",
        "while n != 1:\n",
        "    if n % 2 == 0:  # Even number\n",
        "        n = n // 2\n",
        "    else:  # Odd number\n",
        "        n = 3 * n + 1\n",
        "    collatz_sequence.append(n)\n",
        "\n",
        "print(f\"Collatz sequence: {collatz_sequence}\")"
      ],
      "metadata": {
        "colab": {
          "base_uri": "https://localhost:8080/"
        },
        "id": "Z5cvrD9QDUDb",
        "outputId": "be14fd58-7eaa-4a71-ec0f-05a8a93944cd"
      },
      "execution_count": 21,
      "outputs": [
        {
          "output_type": "stream",
          "name": "stdout",
          "text": [
            "Enter a positive integer: 6\n",
            "Collatz sequence: [6, 3, 10, 5, 16, 8, 4, 2, 1]\n"
          ]
        }
      ]
    }
  ],
  "metadata": {
    "kernelspec": {
      "display_name": "base",
      "language": "python",
      "name": "python3"
    },
    "language_info": {
      "codemirror_mode": {
        "name": "ipython",
        "version": 3
      },
      "file_extension": ".py",
      "mimetype": "text/x-python",
      "name": "python",
      "nbconvert_exporter": "python",
      "pygments_lexer": "ipython3",
      "version": "3.11.6"
    },
    "colab": {
      "provenance": []
    }
  },
  "nbformat": 4,
  "nbformat_minor": 0
}