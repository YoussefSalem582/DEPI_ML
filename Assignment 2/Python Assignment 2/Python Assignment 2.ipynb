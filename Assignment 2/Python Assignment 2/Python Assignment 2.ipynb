{
 "cells": [
  {
   "cell_type": "markdown",
   "metadata": {},
   "source": [
    "## **Problem 1:** Calculator Using Match-Case\n",
    "\n",
    "\n",
    "Task:\n",
    "Create a calculator program that performs basic arithmetic operations. The program should:\n",
    "\n",
    "- Prompt the user to enter two numbers.\n",
    "- Prompt the user to enter an operator (+, -, *, /, %).\n",
    "- Use a match-case statement to perform the operation.\n",
    "- Display the result.\n",
    "\n",
    "Example:\n",
    "\n",
    "Enter the first number: 10<br>\n",
    "Enter the second number: 5<br>\n",
    "Enter an operator (+, -, *, /, %): /<br>\n",
    "Result: 2.0\n",
    "\n",
    "\n",
    "**Additional Requirement:**\n",
    "\n",
    "Handle division by zero and invalid operators gracefully by displaying appropriate error messages.\n"
   ]
  },
  {
   "cell_type": "code",
   "execution_count": 6,
   "metadata": {},
   "outputs": [
    {
     "name": "stdout",
     "output_type": "stream",
     "text": [
      "var 1 is <class 'str'>\n",
      "var 2 is <class 'int'>\n"
     ]
    }
   ],
   "source": [
    "#hint\n",
    "# to prompt the user to make him enter a value for variable in python or to make a user defined input, use `input()` builtin function, to accpet an input from the user during running time.\n",
    "\n",
    "#example.\n",
    "\n",
    "str_var = input(\"Enter a number: \") #The user will enter the value during running time and it will be passed to var variable but it will be string.\n",
    "\n",
    "#if you want to make the user value to be integer, you must do the following.\n",
    "\n",
    "int_var = int(input(\"Enter a number:\")) #The user will enter a string value but int() will convert it to integer, be careful about passing any text, like \"a\", \"b\", etc.., because text cannot be conveted into integer.\n",
    "\n",
    "print(f\"var 1 is {type(str_var)}\")\n",
    "print(f\"var 2 is {type(int_var)}\")"
   ]
  },
  {
   "cell_type": "markdown",
   "metadata": {},
   "source": [
    "## **Problem 2:** Pattern Generation with For Loops\n",
    "\n",
    "Task:\n",
    "\n",
    "Write a Python program that generates a number pattern based on a user-defined limit `n`. The pattern should incrementally increase the number of elements in each row, starting from `1`, until the next number would exceed `n`. Use nested for loops to achieve this.\n",
    "\n",
    "Example:\n",
    "If `n = 10`, the output should be:\n",
    "\n",
    "1<br>\n",
    "2 3<br>\n",
    "4 5 6<br>\n",
    "7 8 9 10<br>\n",
    "\n",
    "Requirements:\n",
    "\n",
    "- Use nested for loops.\n",
    "- The program should prompt the user for the value of n, (explained below in the hint)\n",
    "- Ensure that the pattern stops adding numbers when the next number would exceed n."
   ]
  },
  {
   "cell_type": "markdown",
   "metadata": {},
   "source": [
    "## **Problem 3:** List Comparison and Analysis\n",
    "\n",
    "Task:\n",
    "Write a Python program that, given two lists of integers list_a and list_b, performs the following operations:\n",
    "\n",
    "- Finds and displays a list of elements that are common to both lists.\n",
    "- Finds and displays a list of elements that are only in list_a.\n",
    "- Finds and displays a list of elements that are only in list_b.\n",
    "- Calculates and displays the sum of the absolute differences between corresponding elements up to the length of the shorter list.\n",
    "\n",
    "Example:\n",
    "\n",
    "Given:\n",
    "\n",
    "list_a = **[1, 2, 3, 4]**<br>\n",
    "list_b = **[3, 4, 5, 6]**\n",
    "\n",
    "The program should output:\n",
    "\n",
    "Common elements: **[3, 4]**<br>\n",
    "Unique to list_a: **[1, 2]**<br>\n",
    "Unique to list_b: **[5, 6]**<br>\n",
    "Sum of differences: **8**<br>\n",
    "\n",
    "\n",
    "Explanation of Sum of Differences:\n",
    "\n",
    "Calculate the sum of absolute differences between corresponding elements:\n",
    "\n",
    "|1 - 3| = 2<br>\n",
    "|2 - 4| = 2<br>\n",
    "|3 - 5| = 2<br>\n",
    "|4 - 6| = 2<br>\n",
    "\n",
    "Total sum: 2 + 2 + 2 + 2 = 8\n",
    "\n",
    "\n",
    "#### **Requirements:**\n",
    "\n",
    "- Use list comprehensions not sets.\n",
    "- Ensure the program handles lists of different lengths.\n",
    "- The original lists should not be modified.\n",
    "- Do not use functions; write the code in the main body of the program."
   ]
  },
  {
   "cell_type": "markdown",
   "metadata": {},
   "source": [
    "## **Problem 4:** Collatz Conjecture with While Loop\n",
    "\n",
    "Task\n",
    "\n",
    "Write a Python program that computes and displays the Collatz sequence for a given positive integer `n`.\n",
    "\n",
    "Steps to Follow:\n",
    "\n",
    "- Prompt the user to input a positive integer.\n",
    "- Check if the input is valid (greater than 0). If not, prompt the user again.\n",
    "- Compute the Collatz sequence using a while loop:\n",
    "    - If n is even, the next number is **n / 2**.\n",
    "    - If n is odd, the next number is **3 * n + 1**.\n",
    "    - Append each value to a list.\n",
    "- Continue the process until **n** becomes 1.\n",
    "\n",
    "**Example:**\n",
    "If the user inputs 6, the program should output:\n",
    "\n",
    "**Collatz sequence: [6, 3, 10, 5, 16, 8, 4, 2, 1]**\n",
    "\n",
    "#### **Requirments:**\n",
    "\n",
    "- Use a while loop.\n",
    "- Validate that the input n is a positive integer.\n",
    "- Do not use functions; write the code in the main body of the program.\n",
    "- The sequence should be stored in a list and displayed after the computation."
   ]
  }
 ],
 "metadata": {
  "kernelspec": {
   "display_name": "Python 3",
   "language": "python",
   "name": "python3"
  },
  "language_info": {
   "codemirror_mode": {
    "name": "ipython",
    "version": 3
   },
   "file_extension": ".py",
   "mimetype": "text/x-python",
   "name": "python",
   "nbconvert_exporter": "python",
   "pygments_lexer": "ipython3",
   "version": "3.12.2"
  }
 },
 "nbformat": 4,
 "nbformat_minor": 2
}
