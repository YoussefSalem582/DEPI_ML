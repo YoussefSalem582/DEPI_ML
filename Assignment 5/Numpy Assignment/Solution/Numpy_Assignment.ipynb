{
  "cells": [
    {
      "cell_type": "markdown",
      "metadata": {
        "id": "jXF0X5ksR-J2"
      },
      "source": [
        "## **Task 1 - Broadcasted Distance Calculation**\n",
        "\n",
        "- Objective: Compute pairwise Euclidean distances between two sets of points **without loops**.\n",
        "\n",
        "\n",
        "Here's the Euclidean distance formula in Markdown format:\n",
        "\n",
        "### Euclidean Distance Formula\n",
        "\n",
        "The Euclidean distance between two points $$p = (p_1, \\ldots, p_n)$$ and $$q = (q_1, \\ldots, q_n)$$ in n-dimensional Euclidean space is defined as:\n",
        "\n",
        "$$\n",
        "d(p,q) = \\sqrt{\\sum_{i=1}^{n} (q_i - p_i)^2}\n",
        "$$\n",
        "\n",
        "#### For 2D Space (x-y plane)\n",
        "\n",
        "In two-dimensional space, for points $$p = (x_1, y_1)$$ and $$q = (x_2, y_2)$$, the formula simplifies to:\n",
        "\n",
        "$$\n",
        "d = \\sqrt{(x_2 - x_1)^2 + (y_2 - y_1)^2}\n",
        "$$\n",
        "\n",
        "This formula calculates the straight-line distance between two points by taking the square root of the sum of squared differences of their coordinates.\n",
        "\n",
        "**Task Details:**\n",
        "\n",
        "Inputs:\n",
        "\n",
        "- X: a 2D array of shape (N, D) for N points in D-dimensional space.\n",
        "- Y: a 2D array of shape (M, D) for M points in D-dimensional space.\n",
        "\n",
        "Output:\n",
        "- dist: a 2D array of shape (N, M), where dist[i, j] is the Euclidean distance between X[i] and Y[j].\n",
        "\n",
        "Hint: Use broadcasting\n",
        "\n",
        "### **Example**\n",
        "\n",
        "```python\n",
        "import numpy as np\n",
        "\n",
        "X = np.array([[0, 0],\n",
        "              [1, 1],\n",
        "              [2, 2]])  # Shape (3, 2)\n",
        "\n",
        "Y = np.array([[0, 0],\n",
        "              [0, 1],\n",
        "              [1, 1],\n",
        "              [2, 2]])  # Shape (4, 2)\n",
        "\n",
        "# Expected dist array:\n",
        "# Distances between:\n",
        "# When X[0]=(0,0) and Y: (0,0) distance will be 0,  and when Y: (0,1) distance will be 1, and when Y: (1,1) distance will be √2≈1.4142, and when Y: (2,2) distancw will be √8≈2.8284, so the first row in distance matrix will be [0.        , 1.        , 1.41421356, 2.82842712]\n",
        "\n",
        "# X[1]=(1,1), Y: (0,0)=√2, (0,1)=1,      (1,1)=0,        (2,2)=√2≈1.4142\n",
        "# X[2]=(2,2), Y: (0,0)=√8, (0,1)=√5≈2.2361, (1,1)=√2≈1.4142, (2,2)=0\n",
        "\n",
        "# dist should be approximately:\n",
        "# [[0.        , 1.        , 1.41421356, 2.82842712],\n",
        "#  [1.41421356, 1.        , 0.        , 1.41421356],\n",
        "#  [2.82842712, 2.23606798, 1.41421356, 0.        ]]\n",
        "```"
      ]
    },
    {
      "cell_type": "code",
      "source": [
        "import numpy as np\n",
        "\n",
        "def calculate_distances(X, Y):\n",
        "    # Compute squared differences using broadcasting\n",
        "    diff = X[:, np.newaxis, :] - Y[np.newaxis, :, :]\n",
        "\n",
        "    # Square differences and sum along last axis\n",
        "    squared_distances = np.sum(diff**2, axis=2)\n",
        "\n",
        "    # Take square root to get Euclidean distances\n",
        "    distances = np.sqrt(squared_distances)\n",
        "\n",
        "    return distances\n",
        "\n",
        "# Example inputs\n",
        "X = np.array([[0, 0],\n",
        "              [1, 1],\n",
        "              [2, 2]])  # Shape (3, 2)\n",
        "\n",
        "Y = np.array([[0, 0],\n",
        "              [0, 1],\n",
        "              [1, 1],\n",
        "              [2, 2]])  # Shape (4, 2)\n",
        "\n",
        "# Calculate distances\n",
        "dist = calculate_distances(X, Y)\n",
        "\n",
        "# Print result\n",
        "print(dist)"
      ],
      "metadata": {
        "colab": {
          "base_uri": "https://localhost:8080/"
        },
        "id": "KAvahD75T4Ds",
        "outputId": "9654f6c3-14b1-43fb-c97e-00470cfe9325"
      },
      "execution_count": 1,
      "outputs": [
        {
          "output_type": "stream",
          "name": "stdout",
          "text": [
            "[[0.         1.         1.41421356 2.82842712]\n",
            " [1.41421356 1.         0.         1.41421356]\n",
            " [2.82842712 2.23606798 1.41421356 0.        ]]\n"
          ]
        }
      ]
    },
    {
      "cell_type": "markdown",
      "metadata": {
        "id": "fKYFfKhoR-J4"
      },
      "source": [
        "## **Task 2- Row-wise and Column-wise Normalization**\n",
        "\n",
        "- Objective: Normalize rows and columns of a matrix so that each row or column sums to 1.\n",
        "\n",
        "**Task Details:**\n",
        "\n",
        "Input:\n",
        "\n",
        "- A: a 2D array (N, M).\n",
        "\n",
        "Outputs:\n",
        "- A_row_norm: same shape as A, each row sums to 1.\n",
        "- A_col_norm: same shape as A, each column sums to 1.\n",
        "Hint:\n",
        "\n",
        "Row normalization: A_row_norm = A / A.sum(**put your params here**)\n",
        "Column normalization: A_col_norm = A / A.sum(**put your params here**)\n",
        "\n",
        "```python\n",
        "A = np.array([[1, 2],\n",
        "              [3, 4]])\n",
        "\n",
        "# Row sums: [3, 7]\n",
        "# A_row_norm:\n",
        "# [[1/3, 2/3],\n",
        "#  [3/7, 4/7]]\n",
        "# ≈ [[0.33333333, 0.66666667],\n",
        "#    [0.42857143, 0.57142857]]\n",
        "\n",
        "# Column sums: [4, 6]\n",
        "# A_col_norm:\n",
        "# [[1/4, 2/6],\n",
        "#  [3/4, 4/6]]\n",
        "# = [[0.25, 0.33333333],\n",
        "#    [0.75, 0.66666667]]\n",
        "```"
      ]
    },
    {
      "cell_type": "code",
      "source": [
        "import numpy as np\n",
        "\n",
        "def normalize_matrix(A):\n",
        "    # Row-wise normalization: Normalize each row so that sum of elements in each row is 1.\n",
        "    A_row_norm = A / A.sum(axis=1, keepdims=True)\n",
        "\n",
        "    # Column-wise normalization: Normalize each column so that sum of elements in each column is 1.\n",
        "    A_col_norm = A / A.sum(axis=0, keepdims=True)\n",
        "\n",
        "    return A_row_norm, A_col_norm\n",
        "\n",
        "# Example input\n",
        "A = np.array([[1, 2],\n",
        "              [3, 4]])\n",
        "\n",
        "# Normalize\n",
        "A_row_norm, A_col_norm = normalize_matrix(A)\n",
        "\n",
        "# Print results\n",
        "print(\"Row-wise Normalization:\\n\", A_row_norm)\n",
        "print(\"\\nColumn-wise Normalization:\\n\", A_col_norm)"
      ],
      "metadata": {
        "colab": {
          "base_uri": "https://localhost:8080/"
        },
        "id": "1Pa1HwvIUKcr",
        "outputId": "a29e1efc-b827-44e9-be25-da962d04023b"
      },
      "execution_count": 4,
      "outputs": [
        {
          "output_type": "stream",
          "name": "stdout",
          "text": [
            "Row-wise Normalization:\n",
            " [[0.33333333 0.66666667]\n",
            " [0.42857143 0.57142857]]\n",
            "\n",
            "Column-wise Normalization:\n",
            " [[0.25       0.33333333]\n",
            " [0.75       0.66666667]]\n"
          ]
        }
      ]
    },
    {
      "cell_type": "markdown",
      "metadata": {
        "id": "wIWQIKeqR-J5"
      },
      "source": [
        "## **Task 3- Elementwise Condition Replacement**\n",
        "\n",
        "- Objective: Replace elements based on conditions without loops.\n",
        "\n",
        "**Task Details:**\n",
        "\n",
        "Input:\n",
        "\n",
        "- x: a 1D array.\n",
        "- T: a threshold.\n",
        "\n",
        "**Steps:**\n",
        "\n",
        "- Replace all negative values in x with 0.\n",
        "- Replace all values greater than T with the mean of values at below T.\n",
        "\n",
        "```python\n",
        "x = np.array([-2, -1, 0, 5, 10])\n",
        "T = 5\n",
        "\n",
        "# Step 1: Replace negatives with 0: x -> [0,0,0,5,10]\n",
        "# Values ≤ T are [0,0,0,5], mean = (0+0+0+5)/4 = 1.25\n",
        "# then values at or below T=5 are [0,0,0,5], mean=1.25, final x=[0,0,0,5,1.25].\n",
        "```"
      ]
    },
    {
      "cell_type": "code",
      "source": [
        "import numpy as np\n",
        "\n",
        "def condition_replace(x, T):\n",
        "    # Step 1: Replace all negative values with 0\n",
        "    x = np.where(x < 0, 0, x)\n",
        "\n",
        "    # Step 2: Replace values greater than T with mean of values <= T\n",
        "    mean_below_T = x[x <= T].mean()\n",
        "    x = np.where(x > T, mean_below_T, x)\n",
        "\n",
        "    return x\n",
        "\n",
        "# Example input\n",
        "x = np.array([-2, -1, 0, 5, 10])\n",
        "T = 5\n",
        "\n",
        "# Apply condition replacement\n",
        "result = condition_replace(x, T)\n",
        "\n",
        "# Print result\n",
        "print(result)"
      ],
      "metadata": {
        "colab": {
          "base_uri": "https://localhost:8080/"
        },
        "id": "pEWLwMa9UdOa",
        "outputId": "edc78b5f-92da-4a1a-952a-75648a8daee8"
      },
      "execution_count": 6,
      "outputs": [
        {
          "output_type": "stream",
          "name": "stdout",
          "text": [
            "[0.   0.   0.   5.   1.25]\n"
          ]
        }
      ]
    },
    {
      "cell_type": "markdown",
      "metadata": {
        "id": "4io3EkxdR-J5"
      },
      "source": [
        "## **Task 4- 2D Linear Transformations**\n",
        "\n",
        "- Objective: Apply a linear transformation to a set of 2D points using matrix multiplication.\n",
        "\n",
        "Task Details:\n",
        "\n",
        "Inputs:\n",
        "\n",
        "- points: (N, 2) array of points.\n",
        "- T: (2, 2) transformation matrix.\n",
        "\n",
        "```python\n",
        "\n",
        "points = np.array([[1, 0],\n",
        "                   [0, 1],\n",
        "                   [1, 1]])\n",
        "\n",
        "# A 90-degree rotation matrix is:\n",
        "T = np.array([[0, -1],\n",
        "              [1,  0]])\n",
        "\n",
        "# points_transformed:\n",
        "# [[ 0, -1],\n",
        "#  [ 1,  0],\n",
        "#  [ 1, -1]]\n",
        "```"
      ]
    },
    {
      "cell_type": "code",
      "source": [
        "import numpy as np\n",
        "\n",
        "def apply_transformation(points, T):\n",
        "    # Apply linear transformation using matrix multiplication\n",
        "    points_transformed = points @ T.T\n",
        "    return points_transformed\n",
        "\n",
        "# Example input\n",
        "points = np.array([[1, 0],\n",
        "                   [0, 1],\n",
        "                   [1, 1]])\n",
        "\n",
        "# A 90-degree rotation matrix\n",
        "T = np.array([[0, -1],\n",
        "              [1,  0]])\n",
        "\n",
        "# Apply transformation\n",
        "points_transformed = apply_transformation(points, T)\n",
        "\n",
        "# Print result\n",
        "print(points_transformed)"
      ],
      "metadata": {
        "colab": {
          "base_uri": "https://localhost:8080/"
        },
        "id": "CVNeUnqaUrjI",
        "outputId": "27cd9738-fa26-4b8c-86f3-16773983b312"
      },
      "execution_count": 9,
      "outputs": [
        {
          "output_type": "stream",
          "name": "stdout",
          "text": [
            "[[ 0  1]\n",
            " [-1  0]\n",
            " [-1  1]]\n"
          ]
        }
      ]
    }
  ],
  "metadata": {
    "language_info": {
      "name": "python"
    },
    "colab": {
      "provenance": []
    },
    "kernelspec": {
      "name": "python3",
      "display_name": "Python 3"
    }
  },
  "nbformat": 4,
  "nbformat_minor": 0
}