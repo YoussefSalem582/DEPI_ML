{
 "cells": [
  {
   "cell_type": "markdown",
   "metadata": {},
   "source": [
    "#### **General Requirements for All Tasks (if you didn't follow them you will be deducted):**\n",
    "\n",
    "- Use Python’s typing module to annotate variables and function arguments and return types.\n",
    "- Include docstrings (using triple-quoted strings) for all classes and public methods, explaining their purpose and usage.\n",
    "- Include inline, multi-line comments where appropriate.\n",
    "- Write clean, readable, and PEP 8-compliant code."
   ]
  },
  {
   "cell_type": "markdown",
   "metadata": {},
   "source": [
    "### **Task 1: Class and Inheritance**\n",
    "\n",
    "**Description:**\n",
    "Create two classes: `Shape` and `Rectangle`. The `Shape` class should be an **abstract** representation of a shape, and `Rectangle` should **inherit** from an abstract class **Shape** and implement a method to compute the area and perimeter of a rectangle.\n",
    "\n",
    "Details:\n",
    "\n",
    "- Shape Class:\n",
    "\n",
    "    - `__init__` takes no parameters.\n",
    "    - A method area() that raises NotImplementedError.\n",
    "    - Include a docstring describing the class.\n",
    "\n",
    "- Rectangle Class (inherits from Shape):\n",
    "\n",
    "    - `__init__(self, width: float, height: float)`.\n",
    "    - define the attributes of the Rectangle class as **private** inside `__init__` and you cannot set their values directly from the outside of the class, that means their names starts with `__`.\n",
    "    - Implements `area()` which returns **self.__width * self.__height**.\n",
    "    - Implments `perimeter()` which returns **2 * (self.__length + self.__width)**\n",
    "    - Try to print the value of the width and height using `print(f\"The width of the Rectangle is {rect.width} and height of the Rectangle is {rect.height}\")` without getting any error.\n",
    "    - Try to set the width and height using the defined object from the class like rect.width = 10 or rect.height = 20, without getting any error.\n",
    "    - Include a docstring explaining the class and method."
   ]
  },
  {
   "cell_type": "markdown",
   "metadata": {},
   "source": [
    "### **Task 2: Text File Operations**\n",
    "\n",
    "**Description:**\n",
    "\n",
    "Create a class `TextFileStats` that manages a text file. It should handle file creation, appending content, deleting the file, and provide statistics about its contents.\n",
    "\n",
    "**Details:**\n",
    "\n",
    "- `__init__(self, file_path: str)` to store the file path.\n",
    "\n",
    "- `create_file(self, initial_content: str = \"\") -> None:`\n",
    "    - Creates the file at file_path. If initial_content is provided, write it into the file, and at the first line of the text file put the date and the time of the creation.\n",
    "-  `change_content(self, content: str = \"\") -> None:`\n",
    "    - change the whole content of the file and overwrite to it content, and at the first line of the text file put the date and the time of the update.\n",
    "- `append_content(self, content: str) -> None:`\n",
    "    - Appends the given content to the file, and at the first line of the text file put the date and the time of the update.\n",
    "- `delete_file(self) -> None:`\n",
    "    - Deletes the file at the stored file_path.\n",
    "- `line_count(self) -> int:`\n",
    "    - Returns the number of lines in the file.\n",
    "- `word_count(self) -> int:`\n",
    "    - Returns the total number of words in the file (assuming words are separated by whitespace).\n",
    "- Include docstrings for the class and all methods, and ensure that file operations are performed with with `open(...)` blocks and proper error handling where appropriate.\n"
   ]
  },
  {
   "cell_type": "markdown",
   "metadata": {},
   "source": [
    "### **Task 3: Identify and Correct a Logical Error in a Sorting Algorithm**\n",
    "\n",
    "**Description:**\n",
    "\n",
    "I Implemented a sorting function intended to sort a list of integers in ascending order. However, I got subtle logical error in the given code that prevents correct sorting, can you help me with:\n",
    "\n",
    "- Identify the logical error by yourself.\n",
    "- Correct the error and submit the fixed version.\n",
    "- Include a docstring and appropriate comments and don't forget typing.\n",
    "\n",
    "\n",
    "#### **Faulty Sorting Function (Unaltered Version):**\n",
    "\n",
    "\n",
    "```python\n",
    "\n",
    "def sort(numbers):\n",
    "    for i in range(1, len(numbers)):\n",
    "        current = numbers[i]\n",
    "        j = i - 1\n",
    "        while j >= 1 and numbers[j] < current:\n",
    "            numbers[j+1] = numbers[j]\n",
    "            j -= 1\n",
    "        numbers[j] = current\n",
    "    return numbers\n",
    "\n",
    "sort([50,54,24,87,59,78,14]) #output [78, 24, 24, 24, 24, 14, 14], correct output must be [14, 24, 50, 54, 59, 78, 87]\n",
    "```\n"
   ]
  },
  {
   "cell_type": "markdown",
   "metadata": {},
   "source": [
    "### **Task 4: Identify and Correct a Logical Error in Another Algorithm**\n",
    "\n",
    "**Description:**\n",
    "\n",
    "I Wrote a function that attempts to find the closest integer to a given target in a list. There is a subtle logical error in the comparison logic or the way values are updated. help me with:\n",
    "\n",
    "- Identify the logical error by yourself.\n",
    "- Correct the error and submit the fixed version.\n",
    "- Include a docstring and appropriate comments and don't forget typing.\n",
    "\n",
    "#### Faulty Function Example (Unaltered Version):\n",
    "\n",
    "```python\n",
    "def find_closest(numbers, target):\n",
    "    if not numbers:\n",
    "        raise ValueError(\"The list 'numbers' cannot be empty.\")\n",
    "\n",
    "    closest = numbers[0]\n",
    "    for num in numbers[1:]:\n",
    "        if abs(num - target) < abs(closest - target) or (abs(num - target) == abs(closest - target) and num < closest):\n",
    "            closest = closest\n",
    "    return closest\n",
    "\n",
    "    find_closest([1, 5, 9, 11, 10], 10) #output 1, but the closest number to 10 is 10 itself from the list.\n",
    "    find_closest([1, 5, 7 ,9, 11, 10], 4) #output 1, but the closest number to 4 is 5.\n",
    "    find_closest([1, 5, 7 ,9, 11, 10], 8) #output 1, but the closest number to 8 is 7 and 9, but we will chosse the smallest one.\n",
    "```"
   ]
  }
 ],
 "metadata": {
  "kernelspec": {
   "display_name": "base",
   "language": "python",
   "name": "python3"
  },
  "language_info": {
   "codemirror_mode": {
    "name": "ipython",
    "version": 3
   },
   "file_extension": ".py",
   "mimetype": "text/x-python",
   "name": "python",
   "nbconvert_exporter": "python",
   "pygments_lexer": "ipython3",
   "version": "3.11.6"
  }
 },
 "nbformat": 4,
 "nbformat_minor": 2
}
