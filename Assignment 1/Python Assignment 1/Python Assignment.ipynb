{
 "cells": [
  {
   "cell_type": "markdown",
   "metadata": {},
   "source": [
    "#### Name: Youssef Salem Hassan"
   ]
  },
  {
   "cell_type": "markdown",
   "metadata": {},
   "source": [
    "#### Task #1: \n",
    "\n",
    "Write a program that calculates the future value of an investment based on compound interest. Assign appropriate values to variables for the principal amount, annual interest rate, number of times interest is compounded per year, and the number of years. Use the compound interest formula to compute the future value and print the result in a well-formatted.\n",
    "\n",
    "#### Compound Interest Formula\n",
    "\n",
    "The formula for compound interest is:\n",
    "\n",
    "$$\n",
    "A = P \\left(1 + \\frac{r}{n}\\right)^{nt}\n",
    "$$\n",
    "\n",
    "Where:\n",
    "\n",
    "- $A$ = the future value of the investment/loan, including interest\n",
    "- $P$ = the principal investment amount (the initial deposit or loan amount)\n",
    "- $r$ = the annual interest rate (in decimal form)\n",
    "- $n$ = the number of times that interest is compounded per year\n",
    "- $t$ = the time the money is invested or borrowed for, in years\n",
    "\n",
    "*Note:* Replace the example values with different ones to test your program with various scenarios."
   ]
  },
  {
   "cell_type": "code",
   "execution_count": null,
   "metadata": {},
   "outputs": [
    {
     "name": "stdout",
     "output_type": "stream",
     "text": [
      "The future value of the investment after 10 years is: $1643.62\n"
     ]
    }
   ],
   "source": [
    "P = 1000  # dollars\n",
    "r = 0.05  # Annual interest rate (5%)\n",
    "n = 4     # Number of times interest is compounded per year\n",
    "t = 10    # Number of years money is invested for\n",
    "\n",
    "# compound interest formula\n",
    "A = P * (1 + r / n) ** (n * t)\n",
    "\n",
    "print(f\"The future value of the investment after {t} years is: ${A:.2f}\")"
   ]
  },
  {
   "cell_type": "markdown",
   "metadata": {},
   "source": [
    "#### Task #2:\n",
    "\n",
    "**Task:** Create a simple program that manages a collection of favorite movies. \n",
    "The program should:\n",
    "\n",
    "1. Initialize a list with a few movie titles.\n",
    "2. Add a new movie to the last of the list.\n",
    "3. Remove a movie from the list by specifying its name.\n",
    "4. Access and print a specific movie from the list.\n",
    "\n",
    "*Instructions:* Use only variables and lists."
   ]
  },
  {
   "cell_type": "code",
   "execution_count": 16,
   "metadata": {},
   "outputs": [
    {
     "name": "stdout",
     "output_type": "stream",
     "text": [
      "Initial list of favorite movies:\n",
      "['Deadpool', 'Rick and Morty', 'Attack on Titan', 'The Godfather', 'The Walking dead']\n",
      "\n",
      "List after adding a new movie:\n",
      "['Deadpool', 'Rick and Morty', 'Attack on Titan', 'The Godfather', 'The Walking dead', 'Spiderman']\n",
      "\n",
      "'The Godfather' has been removed from the list.\n",
      "\n",
      "List after removing a movie:\n",
      "['Deadpool', 'Rick and Morty', 'Attack on Titan', 'The Walking dead', 'Spiderman']\n",
      "\n",
      "The movie at index 2 is: 'Attack on Titan'\n"
     ]
    }
   ],
   "source": [
    "# Step 1: a list with a few movie titles\n",
    "favorite_movies = [\"Deadpool\", \"Rick and Morty\", \"Attack on Titan\", \"The Godfather\", \"The Walking dead\"]\n",
    "\n",
    "print(\"Initial list of favorite movies:\")\n",
    "print(favorite_movies)\n",
    "\n",
    "# Step 2: Add a new movie to end of list\n",
    "new_movie = \"Spiderman\"\n",
    "favorite_movies.append(new_movie)\n",
    "\n",
    "print(\"\\nList after adding a new movie:\")\n",
    "print(favorite_movies)\n",
    "\n",
    "# Step 3: Remove a movie from list by specifying its name\n",
    "movie_to_remove = \"The Godfather\"\n",
    "if movie_to_remove in favorite_movies:\n",
    "    favorite_movies.remove(movie_to_remove)\n",
    "    print(f\"\\n'{movie_to_remove}' has been removed from the list.\")\n",
    "else:\n",
    "    print(f\"\\n'{movie_to_remove}' is not found in the list.\")\n",
    "\n",
    "# Print list after removing movie\n",
    "print(\"\\nList after removing a movie:\")\n",
    "print(favorite_movies)\n",
    "\n",
    "# Step 4: Access and print a specific movie fromlist\n",
    "index = 2  # Access second movie\n",
    "if 0 <= index < len(favorite_movies):\n",
    "    print(f\"\\nThe movie at index {index} is: '{favorite_movies[index]}'\")\n",
    "else:\n",
    "    print(\"\\nInvalid index.\")"
   ]
  },
  {
   "cell_type": "markdown",
   "metadata": {},
   "source": [
    "#### Task #3: Advanced Practical Problem: Book Information System\n",
    "\n",
    "Task: Create a program that defines a tuple containing information about\n",
    "a book: title, author, publication year, and genre. Then:\n",
    "\n",
    "1.  Unpack the tuple into individual variables\n",
    "2.  Create a new tuple that adds the publisher’s name to the existing\n",
    "    book information\n",
    "3.  Access and print the book’s title and genre from the tuple\n",
    "4.  Attempt to modify the publication year in the tuple and observe the\n",
    "    result\n",
    "\n",
    "**Note**: Observe how attempting to modify a tuple results in an error,\n",
    "demonstrating the immutable nature of tuples. Use this understanding to\n",
    "decide when to use tuples over lists in your programs."
   ]
  },
  {
   "cell_type": "code",
   "execution_count": null,
   "metadata": {},
   "outputs": [
    {
     "name": "stdout",
     "output_type": "stream",
     "text": [
      "Unpacked book information:\n",
      "Title: Your psychological complexes are your eternal prison\n",
      "Author: Dr. Yousef Hasan\n",
      "Publication Year: 2024\n",
      "Genre: Psychology\n",
      "\n",
      "Extended book information (with publisher):\n",
      "('Your psychological complexes are your eternal prison', 'Dr. Yousef Hasan', 2024, 'Psychology', 'MindPath Publishing')\n",
      "\n",
      "Accessing the title and genre from the tuple:\n",
      "Title: Your psychological complexes are your eternal prison\n",
      "Genre: Psychology\n",
      "\n",
      "Attempt to modify the tuple:\n",
      "Error: 'tuple' object does not support item assignment (Tuples are immutable)\n"
     ]
    }
   ],
   "source": [
    "# Step 1: Define a tuple with book information for Dr. Yousef Hasan's new book\n",
    "book_info = (\"Your psychological complexes are your eternal prison\", \"Dr. Yousef Hasan\", 2024, \"Psychology\")\n",
    "\n",
    "# Unpack the tuple into individual variables\n",
    "title, author, publication_year, genre = book_info\n",
    "\n",
    "print(\"Unpacked book information:\")\n",
    "print(f\"Title: {title}\")\n",
    "print(f\"Author: {author}\")\n",
    "print(f\"Publication Year: {publication_year}\")\n",
    "print(f\"Genre: {genre}\")\n",
    "\n",
    "# Step 2: Add a publisher’s name to the existing book information\n",
    "publisher = \"MindPath Publishing\"\n",
    "extended_book_info = book_info + (publisher,)\n",
    "\n",
    "print(\"\\nExtended book information (with publisher):\")\n",
    "print(extended_book_info)\n",
    "\n",
    "# Step 3: Access and print book's title and genre from tuple\n",
    "print(\"\\nAccessing the title and genre from the tuple:\")\n",
    "print(f\"Title: {extended_book_info[0]}\")\n",
    "print(f\"Genre: {extended_book_info[3]}\")\n",
    "\n",
    "# Step 4: Attempt to modify the publication year in the tuple (this should cause an error)\n",
    "try:\n",
    "    extended_book_info[2] = 2025 \n",
    "except TypeError as e:\n",
    "    print(\"\\nAttempt to modify the tuple:\")\n",
    "    print(f\"Error: {e} (Tuples are immutable)\")\n"
   ]
  },
  {
   "cell_type": "markdown",
   "metadata": {},
   "source": [
    "#### Task #4: Student Enrollment System\n",
    "Task: Create a program that identifies the unique elements shared between two lists of student names. The program should:\n",
    "\n",
    "1. Define two lists containing names of students enrolled in two different courses\n",
    "2. Convert the lists to sets to find unique names\n",
    "3. Find the intersection of the two sets to identify students enrolled in both courses\n",
    "4. Print the list of students enrolled in both courses\n",
    "\n",
    "The complete implementation can be found in the accompanying Python file (`sets_examples.py`).\n",
    "\n",
    "**Note**: This program demonstrates how sets can be used to find common elements between collections, effectively identifying duplicates or shared items."
   ]
  },
  {
   "cell_type": "code",
   "execution_count": null,
   "metadata": {},
   "outputs": [
    {
     "name": "stdout",
     "output_type": "stream",
     "text": [
      "Students enrolled in Course A:\n",
      "['Youssef', 'Mostafa', 'Abdelrhman', 'Mohamed', 'Joe']\n",
      "\n",
      "Students enrolled in Course B:\n",
      "['Ahmed', 'Joe', 'Gorg', 'Peter', 'Medhat']\n",
      "\n",
      "Students enrolled in both courses:\n",
      "['Joe']\n"
     ]
    }
   ],
   "source": [
    "# Step 1: Define two lists containing names of students enrolled in two different courses\n",
    "course_a_students = [\"Youssef\", \"Mostafa\", \"Abdelrhman\", \"Mohamed\", \"Joe\"]\n",
    "course_b_students = [\"Ahmed\", \"Joe\", \"Gorg\", \"Peter\", \"Medhat\"]\n",
    "\n",
    "print(\"Students enrolled in Course A:\")\n",
    "print(course_a_students)\n",
    "print(\"\\nStudents enrolled in Course B:\")\n",
    "print(course_b_students)\n",
    "\n",
    "# Step 2: Convert the lists to sets to find unique names\n",
    "set_a = set(course_a_students)\n",
    "set_b = set(course_b_students)\n",
    "\n",
    "# Step 3: Find intersection of two sets to identify students enrolled in both courses\n",
    "shared_students = set_a.intersection(set_b)\n",
    "\n",
    "print(\"\\nStudents enrolled in both courses:\")\n",
    "print(list(shared_students))"
   ]
  }
 ],
 "metadata": {
  "kernelspec": {
   "display_name": "nlp_course",
   "language": "python",
   "name": "python3"
  },
  "language_info": {
   "codemirror_mode": {
    "name": "ipython",
    "version": 3
   },
   "file_extension": ".py",
   "mimetype": "text/x-python",
   "name": "python",
   "nbconvert_exporter": "python",
   "pygments_lexer": "ipython3",
   "version": "3.7.16"
  }
 },
 "nbformat": 4,
 "nbformat_minor": 2
}
